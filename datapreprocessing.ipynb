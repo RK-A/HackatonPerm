{
  "nbformat": 4,
  "nbformat_minor": 0,
  "metadata": {
    "colab": {
      "provenance": []
    },
    "kernelspec": {
      "name": "python3",
      "display_name": "Python 3"
    },
    "language_info": {
      "name": "python"
    }
  },
  "cells": [
    {
      "cell_type": "code",
      "execution_count": 59,
      "metadata": {
        "id": "wxTxacUXNlBH"
      },
      "outputs": [],
      "source": [
        "import numpy as np\n",
        "import pandas as pd\n",
        "import matplotlib.pyplot as plt\n",
        "import seaborn as sns"
      ]
    },
    {
      "cell_type": "code",
      "source": [
        "tempStat = pd.read_csv('drive/MyDrive/data/Temperature statistics.csv')\n",
        "netDet = pd.read_csv('drive/MyDrive/data/Network deterioration.csv')\n",
        "natInci = pd.read_csv('drive/MyDrive/data/Natural incidents.csv')\n",
        "meteo = pd.read_csv('drive/MyDrive/data/Meteo data.csv')\n",
        "\n",
        "meteToReg = pd.read_csv('drive/MyDrive/data/Meteo data. MO and meteo accordance.csv')\n"
      ],
      "metadata": {
        "colab": {
          "base_uri": "https://localhost:8080/"
        },
        "id": "qJY8MaFXNr3z",
        "outputId": "64d8fa3a-007f-4533-f62b-f4191adbe5d8"
      },
      "execution_count": 108,
      "outputs": [
        {
          "output_type": "stream",
          "name": "stderr",
          "text": [
            "<ipython-input-108-08af9ad9958b>:4: DtypeWarning: Columns (21) have mixed types. Specify dtype option on import or set low_memory=False.\n",
            "  meteo = pd.read_csv('drive/MyDrive/data/Meteo data.csv')\n"
          ]
        }
      ]
    },
    {
      "cell_type": "markdown",
      "source": [
        "## Метеоданные"
      ],
      "metadata": {
        "id": "j04jd3h41kQm"
      }
    },
    {
      "cell_type": "code",
      "source": [],
      "metadata": {
        "id": "CA6Y1zaVTXhx"
      },
      "execution_count": null,
      "outputs": []
    },
    {
      "cell_type": "code",
      "source": [
        "natInci.columns =['time', 'reg', 'accept', 'ny', 'type', 'criteri','character','outcome']\n",
        "natInci.accept = natInci.accept.fillna('-')"
      ],
      "metadata": {
        "id": "P8T99jXXRbg2"
      },
      "execution_count": 144,
      "outputs": []
    },
    {
      "cell_type": "code",
      "source": [
        "natInci.criteri.unique()"
      ],
      "metadata": {
        "colab": {
          "base_uri": "https://localhost:8080/"
        },
        "id": "XKey0_KwSQ7f",
        "outputId": "4b6df07e-374d-4654-813d-5c12e9210a54"
      },
      "execution_count": 148,
      "outputs": [
        {
          "output_type": "execute_result",
          "data": {
            "text/plain": [
              "array([' Сильный мороз', ' Очень сильный снег , Сильная метель',\n",
              "       ' Очень сильный ветер , Очень сильный снег , Сильная метель', nan,\n",
              "       ' Очень сильный ветер',\n",
              "       ' Очень сильный ветер , Очень сильный снег',\n",
              "       ' Аномально холодная погода', ' Чрезвычайная пожарная опасность',\n",
              "       ' Заморозки', ' Аномально жаркая погода', ' Сильная жара',\n",
              "       ' Ураганный ветер(ураган) , Очень сильный дождь',\n",
              "       ' Шквал , Очень сильный дождь , Крупный град , Аномально жаркая погода',\n",
              "       ' Очень сильный дождь',\n",
              "       ' Очень сильный ветер , Очень сильный дождь , Крупный град',\n",
              "       ' Град, ливень, сильный дождь, сильный ветер',\n",
              "       ' Сильная жара , Аномально жаркая погода',\n",
              "       ' Очень сильный ветер , Шквал , Очень сильный дождь , Сильный ливень',\n",
              "       ' Очень сильный ветер , Очень сильный дождь',\n",
              "       ' Очень сильный ветер , Сильная метель',\n",
              "       ' Сильное гололедно-изморозевое отложение на проводах',\n",
              "       ' Гололед, налипание мокрого снега при сильном ветре, сильный мокрый снег, сильный снег',\n",
              "       ' Очень сильный ветер , Сильное гололедно-изморозевое отложение на проводах',\n",
              "       ' Очень сильный ветер , Очень сильный снег , Сильное гололедно-изморозевое отложение на проводах',\n",
              "       ' Половодье , Паводок', ' Половодье',\n",
              "       ' Очень сильный ветер , Сильный ливень , Крупный град , Чрезвычайная пожарная опасность',\n",
              "       ' Очень сильный ветер , Аномально жаркая погода , Чрезвычайная пожарная опасность',\n",
              "       ' Очень сильный ветер , Очень сильный дождь , Чрезвычайная пожарная опасность',\n",
              "       ' Очень сильный ветер , Очень сильный дождь , Сильный ливень , Чрезвычайная пожарная опасность',\n",
              "       ' Шквал',\n",
              "       ' Очень сильный ветер , Шквал , Очень сильный дождь , Сильный ливень , Крупный град , Чрезвычайная пожарная опасность',\n",
              "       ' Очень сильный ветер , Продолжительный сильный дождь',\n",
              "       ' Сильный ливень',\n",
              "       ' Аномально жаркая погода , Чрезвычайная пожарная опасность',\n",
              "       ' Шквал , Крупный град , Аномально жаркая погода , Чрезвычайная пожарная опасность',\n",
              "       ' Шквал , Сильный ливень , Крупный град , Аномально жаркая погода , Чрезвычайная пожарная опасность',\n",
              "       ' Шквал , Сильный ливень , Крупный град',\n",
              "       ' Очень сильный дождь , Сильный ливень',\n",
              "       ' Сильный мороз , Аномально холодная погода',\n",
              "       ' Очень сильный снег',\n",
              "       ' Очень сильный ветер , Шквал , Очень сильный дождь , Сильный ливень , Крупный град',\n",
              "       ' Очень сильный ветер , Шквал , Очень сильный дождь', ' Паводок',\n",
              "       ' Очень сильный ветер , Очень сильный дождь , Град, ливень, сильный дождь, сильный ветер',\n",
              "       ' Шквал , Очень сильный дождь , Крупный град',\n",
              "       ' Очень сильный ветер , Крупный град',\n",
              "       ' Шквал , Сильный ливень , Сильная метель',\n",
              "       ' Низкая температура, метель, сильный ветер', ' Сильный туман',\n",
              "       ' Очень сильный ветер , Сильный ливень',\n",
              "       ' Очень сильный ветер , Сильный ливень , Крупный град , Град, ливень, сильный дождь, сильный ветер',\n",
              "       ' Очень сильный ветер , Очень сильный дождь , Сильный ливень , Крупный град',\n",
              "       ' Очень сильный дождь , Крупный град',\n",
              "       ' Очень сильный ветер , Очень сильный дождь , Сильный ливень',\n",
              "       ' Сильные осадки в виде снега, усиление ветра, понижение темп. воздуха в переходные сезоны года ...',\n",
              "       ' Очень сильный ветер , Сильный ливень , Крупный град',\n",
              "       ' Шквал , Очень сильный дождь , Сильный ливень',\n",
              "       ' Шквал , Очень сильный дождь , Сильный ливень , Крупный град',\n",
              "       ' Очень сильный снег , Сильное гололедно-изморозевое отложение на проводах',\n",
              "       ' Очень сильный ветер , Очень сильный дождь , Сильный туман'],\n",
              "      dtype=object)"
            ]
          },
          "metadata": {},
          "execution_count": 148
        }
      ]
    },
    {
      "cell_type": "code",
      "source": [
        "\n",
        "# meteo.groupby([pd.Grouper(key='time', freq='D'), meteo.meteostation])['Местное время'].count()"
      ],
      "metadata": {
        "id": "vHlIRXhJbLZV"
      },
      "execution_count": null,
      "outputs": []
    },
    {
      "cell_type": "markdown",
      "source": [
        "## Целевые признаки"
      ],
      "metadata": {
        "id": "gbl9HYXP2Eau"
      }
    },
    {
      "cell_type": "code",
      "source": [
        "dtp = pd.read_csv('drive/MyDrive/data/DTP.csv')\n",
        "fires = pd.read_csv('drive/MyDrive/data/Fires.csv')\n",
        "incidents = pd.read_csv('drive/MyDrive/data/Incidents.csv')\n",
        "dtp.columns = ['reg', 'type','time', 'reason']\n",
        "incidents.columns = ['reg','type', 'time']\n",
        "fires.columns = ['reg', 'type','time', 'reason']\n",
        "lmap = {\n",
        "        'Кизел ГО':'ГО город Кизел',\n",
        "        'Кизеловский ГО': 'ГО город Кизел',\n",
        "        'Нытвенский  ГО': 'Нытвенский ГО',\n",
        "        'Березники ГО': 'ГО город Березники',\n",
        "        'Губахинский ГО': 'Губахинский МО',\n",
        "        'Верещагино ГО': 'Верещагинский ГО',\n",
        "        'Гремячинск ГО':'Губахинский МО',\n",
        "        'Пермский край': '',\n",
        " }\n",
        "\n",
        "dtp = dtp.dropna()[dtp.dropna().reason.apply(lambda x: 'пдд' not in x.lower())] # убрать нарушение пдд и дтп без указания причины\n",
        "fires = fires[fires['reason'].apply(lambda x: 'НППБ' not in x)] # убрать пожары где прична была НППБ\n",
        "emergency = pd.concat([dtp, fires])\n",
        "del dtp, fires\n",
        "emergency.drop('reason', axis=1, inplace=True)\n",
        "emergency = pd.concat([emergency, incidents])\n",
        "\n",
        "emergency.reg = emergency.reg.apply(lambda x: x.strip())\n",
        "emergency.reg = emergency.reg.map(lmap).fillna(emergency.reg)\n",
        "emergency.drop(index=emergency[emergency.reg.isin([''])].index, inplace=True)\n",
        "\n",
        "import re\n",
        "def selection(tipe:str)-> str:\n",
        "  nature = ['заморозки', 'туман','дождь','сильный ветер','просадка', 'абразия', \"паводок\", \"снег\", \"оползни\", \"засуха\", 'половодье']\n",
        "  toxic = ['нефте', \"АХОВ\", \"загрязнения\"]\n",
        "  blows = ['пожар', 'взрыв']\n",
        "  roadTP = ['дтп', 'перерыв в движении', 'транспорт', \"аэропорт\", \"пассажир\"]\n",
        "  GKH = ['канализац', \"электроэнергетич\", \"коммунальн\", \"питьевой\"]\n",
        "\n",
        "  if re.search(str.join('|', roadTP), tipe.lower().strip()):\n",
        "    return 'Аварии на транспорте'\n",
        "  if re.search(str.join('|', toxic), tipe.lower().strip()):\n",
        "    return 'Аварии с выбросом опасных/токсичных веществ'\n",
        "  if re.search(str.join('|', nature), tipe.lower().strip()):\n",
        "    return 'Опасные природные явления'\n",
        "  if re.search(str.join('|', GKH), tipe.lower().strip()):\n",
        "    return 'ЖКХ'\n",
        "  if re.search(str.join('|', blows), tipe.lower().strip()):\n",
        "    return 'Взрывы/пожары/разрушения'\n",
        "\n",
        "\n",
        "  return 'Прочие опасности'\n",
        "emergency['type'] = emergency['type'].apply(lambda x: selection(x))\n",
        "emergency = emergency.reset_index().drop('index', axis=1)\n",
        "emergency.time = pd.to_datetime(emergency.time, errors='coerce')\n",
        "emergency.dropna(inplace=True)\n",
        "emergency.time = pd.to_datetime(emergency.time.dt.strftime('%Y-%m-%d'))  # merge вот эту  табличка"
      ],
      "metadata": {
        "id": "crNBFIjg-f26"
      },
      "execution_count": 109,
      "outputs": []
    },
    {
      "cell_type": "code",
      "source": [
        "emergency.groupby([pd.Grouper(key='time', freq='D'),  emergency.reg])['type'].count().value_counts().sort_index(ascending=False)"
      ],
      "metadata": {
        "colab": {
          "base_uri": "https://localhost:8080/"
        },
        "id": "D93PnTanreb2",
        "outputId": "538798b2-1dbb-41bb-d862-4aff880d1244"
      },
      "execution_count": null,
      "outputs": [
        {
          "output_type": "execute_result",
          "data": {
            "text/plain": [
              "314      1\n",
              "284      1\n",
              "281      1\n",
              "242      1\n",
              "237      2\n",
              "      ... \n",
              "5      391\n",
              "4      485\n",
              "3      595\n",
              "2      580\n",
              "1      477\n",
              "Name: type, Length: 146, dtype: int64"
            ]
          },
          "metadata": {},
          "execution_count": 48
        }
      ]
    },
    {
      "cell_type": "code",
      "source": [
        "emergency.reg.unique()"
      ],
      "metadata": {
        "id": "Q-dMPmJuuDbg",
        "colab": {
          "base_uri": "https://localhost:8080/"
        },
        "outputId": "30a6694a-b7b2-4505-88ac-1461e363fccb"
      },
      "execution_count": 137,
      "outputs": [
        {
          "output_type": "execute_result",
          "data": {
            "text/plain": [
              "43"
            ]
          },
          "metadata": {},
          "execution_count": 137
        }
      ]
    },
    {
      "cell_type": "code",
      "source": [
        "tempStat = pd.read_csv('drive/MyDrive/data/Temperature statistics.csv')\n",
        "tempStat = tempStat[~tempStat.year.isin(['среднемноголетняя температура'])]\n",
        "tempStat = tempStat.dropna()\n",
        "monthRus = {\n",
        "    'январь':1,\n",
        "    'ферваль':2,\n",
        "    'март':3,\n",
        "    'апрель':4,\n",
        "    'май':5,\n",
        "    'июнь':6,\n",
        "    'июль':7,\n",
        "    'август':8,\n",
        "    'сентябрь':9,\n",
        "    'октябрь':10,\n",
        "    'ноябрь':11,\n",
        "    'декабрь':12\n",
        "}\n",
        "tempStat.month = tempStat.month.map(monthRus)\n",
        "tempStat['time'] = pd.to_datetime(tempStat.year+\"-\"+tempStat.month.astype('string')+\"-\"+tempStat.day.astype('string'))"
      ],
      "metadata": {
        "id": "g_Nydo8rnrJd"
      },
      "execution_count": 110,
      "outputs": []
    },
    {
      "cell_type": "code",
      "source": [
        "meteo.rename(columns={'Местное время':'time'}, inplace=True)\n",
        "meteo.time = pd.to_datetime(meteo.time)\n",
        "snow_map={\n",
        "    'Снежный покров не постоянный.': 0,\n",
        "    'Менее 0.5': 0,\n",
        "    'Измерение невозможно или неточно.':0,\n",
        "}\n",
        "meteo.sss = meteo.sss.map(snow_map).fillna(meteo.sss).fillna(0).astype('int')"
      ],
      "metadata": {
        "id": "y9Mr8Zt54YPE"
      },
      "execution_count": 111,
      "outputs": []
    },
    {
      "cell_type": "code",
      "source": [
        "meteo.info()"
      ],
      "metadata": {
        "colab": {
          "base_uri": "https://localhost:8080/"
        },
        "id": "LCcJeXJyI0eY",
        "outputId": "135368ef-c139-490f-a86e-1edff7dc6819"
      },
      "execution_count": 112,
      "outputs": [
        {
          "output_type": "stream",
          "name": "stdout",
          "text": [
            "<class 'pandas.core.frame.DataFrame'>\n",
            "RangeIndex: 569516 entries, 0 to 569515\n",
            "Data columns (total 30 columns):\n",
            " #   Column        Non-Null Count   Dtype         \n",
            "---  ------        --------------   -----         \n",
            " 0   time          569516 non-null  datetime64[ns]\n",
            " 1   T             569198 non-null  float64       \n",
            " 2   Po            568966 non-null  float64       \n",
            " 3   P             568776 non-null  float64       \n",
            " 4   Pa            295447 non-null  float64       \n",
            " 5   U             568919 non-null  float64       \n",
            " 6   DD            560678 non-null  object        \n",
            " 7   Ff            560733 non-null  float64       \n",
            " 8   ff10          21459 non-null   float64       \n",
            " 9   ff3           69478 non-null   float64       \n",
            " 10  N             546045 non-null  object        \n",
            " 11  WW            569516 non-null  object        \n",
            " 12  W1            236966 non-null  object        \n",
            " 13  W2            236956 non-null  object        \n",
            " 14  Tn            86899 non-null   float64       \n",
            " 15  Tx            69727 non-null   float64       \n",
            " 16  Cl            495100 non-null  object        \n",
            " 17  Nh            495356 non-null  object        \n",
            " 18  H             473105 non-null  object        \n",
            " 19  Cm            388814 non-null  object        \n",
            " 20  Ch            253878 non-null  object        \n",
            " 21  VV            528808 non-null  object        \n",
            " 22  Td            569110 non-null  float64       \n",
            " 23  RRR           139327 non-null  object        \n",
            " 24  tR            139327 non-null  float64       \n",
            " 25  E             38258 non-null   object        \n",
            " 26  Tg            34321 non-null   float64       \n",
            " 27  E'            35722 non-null   object        \n",
            " 28  sss           569516 non-null  int64         \n",
            " 29  meteostation  569516 non-null  object        \n",
            "dtypes: datetime64[ns](1), float64(13), int64(1), object(15)\n",
            "memory usage: 130.4+ MB\n"
          ]
        }
      ]
    },
    {
      "cell_type": "code",
      "source": [
        "col_to_drop = ['DD', 'N', 'WW', 'W1', 'W2', 'Cl', 'Nh', 'H', 'Cm', 'Ch', 'VV', 'RRR', 'E', \"E\\'\"]\n",
        "meteo.drop(col_to_drop, axis=1, inplace=True)"
      ],
      "metadata": {
        "id": "l9eYofZh5qDc"
      },
      "execution_count": 126,
      "outputs": []
    },
    {
      "cell_type": "code",
      "source": [
        "meteo.isna().fillna()"
      ],
      "metadata": {
        "colab": {
          "base_uri": "https://localhost:8080/"
        },
        "id": "qH6HdD_23GyB",
        "outputId": "a14e92c4-0db4-4f03-aaeb-559e6fe5a269"
      },
      "execution_count": 128,
      "outputs": [
        {
          "output_type": "execute_result",
          "data": {
            "text/plain": [
              "time                 0\n",
              "T                  318\n",
              "Po                 550\n",
              "P                  740\n",
              "Pa              274069\n",
              "U                  597\n",
              "Ff                8783\n",
              "ff10            548057\n",
              "ff3             500038\n",
              "Tn              482617\n",
              "Tx              499789\n",
              "Td                 406\n",
              "tR              430189\n",
              "Tg              535195\n",
              "sss                  0\n",
              "meteostation         0\n",
              "dtype: int64"
            ]
          },
          "metadata": {},
          "execution_count": 128
        }
      ]
    },
    {
      "cell_type": "code",
      "source": [
        "\n",
        "meteo.loc[np.random.randint(0, len(meteo), 20)]"
      ],
      "metadata": {
        "id": "HY3ZpfhJ0mqa"
      },
      "execution_count": null,
      "outputs": []
    },
    {
      "cell_type": "code",
      "source": [
        "\n",
        "meteo.meteostation.unique()"
      ],
      "metadata": {
        "colab": {
          "base_uri": "https://localhost:8080/"
        },
        "id": "Zmb3_NhwgT9C",
        "outputId": "2475a3f7-1de6-4ea5-ee72-15238ad70cff"
      },
      "execution_count": 113,
      "outputs": [
        {
          "output_type": "execute_result",
          "data": {
            "text/plain": [
              "array(['Оса', 'Кочево', 'Большая Соснова', 'Оханск', 'Чермоз', 'Кын',\n",
              "       'Кудымкар', 'Чердынь', 'Коса', 'Чайковский', 'Ножовка', 'Вая',\n",
              "       'Чернушка', 'Лысьва', 'Октябрьский', 'Пермь', 'Усть-Черная ',\n",
              "       'Кунгур', 'Верещагино', 'Гайны', 'Березники', 'Бисер', 'Губаха',\n",
              "       'Добрянка'], dtype=object)"
            ]
          },
          "metadata": {},
          "execution_count": 113
        }
      ]
    },
    {
      "cell_type": "code",
      "source": [
        "meteo.groupby([meteo.meteostation, pd.Grouper(key='time', freq='D')]).agg(['mean', 'std']).transform(lambda val: val.fillna(val.median())).reset_index() # вот эту табличка"
      ],
      "metadata": {
        "colab": {
          "base_uri": "https://localhost:8080/",
          "height": 648
        },
        "id": "P2uBW0z6FiKj",
        "outputId": "912de626-19b4-4f17-c696-ce701177cc65"
      },
      "execution_count": 134,
      "outputs": [
        {
          "output_type": "execute_result",
          "data": {
            "text/plain": [
              "      meteostation       time          T                    Po            \\\n",
              "                                    mean       std        mean       std   \n",
              "0        Березники 2013-01-01 -18.762500  1.522158  745.675000  1.500238   \n",
              "1        Березники 2013-01-02  -9.950000  3.352611  746.375000  1.575482   \n",
              "2        Березники 2013-01-03 -22.887500  6.902264  734.387500  1.636580   \n",
              "3        Березники 2013-01-04  -2.587500  1.498034  750.862500  2.088019   \n",
              "4        Березники 2013-01-05   4.414286  2.043223  741.071429  2.825311   \n",
              "...            ...        ...        ...       ...         ...       ...   \n",
              "73906     Чернушка 2022-12-27  -9.375000  1.683322  758.862500  0.266927   \n",
              "73907     Чернушка 2022-12-28 -13.200000  2.682217  757.212500  0.835699   \n",
              "73908     Чернушка 2022-12-29 -16.600000  4.327982  755.012500  0.839111   \n",
              "73909     Чернушка 2022-12-30 -11.287500  0.953846  754.400000  0.759699   \n",
              "73910     Чернушка 2022-12-31 -15.625000  2.125861  756.500000  0.459814   \n",
              "\n",
              "              P                      Pa            ...    Tx              Td  \\\n",
              "           mean       std          mean       std  ...  mean  std       mean   \n",
              "0      763.6375  1.570202 -6.938894e-18  0.477344  ... -18.1  0.0 -20.800000   \n",
              "1      763.6500  1.819733 -6.938894e-18  0.477344  ...  -5.5  0.0 -14.812500   \n",
              "2      752.3875  1.323888  5.125000e-01  0.496955  ... -14.0  0.0 -29.200000   \n",
              "3      767.8750  2.157214  3.750000e-01  1.049830  ...   1.6  0.0  -4.087500   \n",
              "4      757.4000  2.879815 -1.250000e+00  1.561730  ...   5.7  0.0  -0.014286   \n",
              "...         ...       ...           ...       ...  ...   ...  ...        ...   \n",
              "73906  773.5500  0.329502 -6.938894e-18  0.477344  ...  -8.4  0.0 -12.037500   \n",
              "73907  772.1125  0.683348 -6.938894e-18  0.477344  ... -11.7  0.0 -15.512500   \n",
              "73908  770.0750  1.108087 -6.938894e-18  0.477344  ... -11.8  0.0 -19.375000   \n",
              "73909  769.1625  0.765203 -6.938894e-18  0.477344  ...  -9.1  0.0 -13.600000   \n",
              "73910  771.5000  0.427618 -6.938894e-18  0.477344  ... -14.2  0.0 -18.362500   \n",
              "\n",
              "                   tR        Tg         sss             \n",
              "            std  mean  std mean  std   mean        std  \n",
              "0      1.527837  12.0  0.0  8.0  0.0  4.000  11.313708  \n",
              "1      1.539422  12.0  0.0  8.0  0.0  7.375  20.859650  \n",
              "2      3.698262  12.0  0.0  8.0  0.0  7.500  21.213203  \n",
              "3      0.662112  12.0  0.0  8.0  0.0  9.250  26.162951  \n",
              "4      4.645223  12.0  0.0  8.0  0.0  0.000   0.000000  \n",
              "...         ...   ...  ...  ...  ...    ...        ...  \n",
              "73906  1.387637  12.0  0.0  8.0  0.0  3.125   8.838835  \n",
              "73907  2.866276  12.0  0.0  8.0  0.0  3.125   8.838835  \n",
              "73908  4.526667  12.0  0.0  8.0  0.0  3.125   8.838835  \n",
              "73909  0.939605  12.0  0.0  8.0  0.0  3.125   8.838835  \n",
              "73910  2.292807  12.0  0.0  8.0  0.0  3.375   9.545942  \n",
              "\n",
              "[73911 rows x 30 columns]"
            ],
            "text/html": [
              "\n",
              "  <div id=\"df-f413b08e-e1f1-4d2b-a6f9-57aa1ef3032f\" class=\"colab-df-container\">\n",
              "    <div>\n",
              "<style scoped>\n",
              "    .dataframe tbody tr th:only-of-type {\n",
              "        vertical-align: middle;\n",
              "    }\n",
              "\n",
              "    .dataframe tbody tr th {\n",
              "        vertical-align: top;\n",
              "    }\n",
              "\n",
              "    .dataframe thead tr th {\n",
              "        text-align: left;\n",
              "    }\n",
              "</style>\n",
              "<table border=\"1\" class=\"dataframe\">\n",
              "  <thead>\n",
              "    <tr>\n",
              "      <th></th>\n",
              "      <th>meteostation</th>\n",
              "      <th>time</th>\n",
              "      <th colspan=\"2\" halign=\"left\">T</th>\n",
              "      <th colspan=\"2\" halign=\"left\">Po</th>\n",
              "      <th colspan=\"2\" halign=\"left\">P</th>\n",
              "      <th colspan=\"2\" halign=\"left\">Pa</th>\n",
              "      <th>...</th>\n",
              "      <th colspan=\"2\" halign=\"left\">Tx</th>\n",
              "      <th colspan=\"2\" halign=\"left\">Td</th>\n",
              "      <th colspan=\"2\" halign=\"left\">tR</th>\n",
              "      <th colspan=\"2\" halign=\"left\">Tg</th>\n",
              "      <th colspan=\"2\" halign=\"left\">sss</th>\n",
              "    </tr>\n",
              "    <tr>\n",
              "      <th></th>\n",
              "      <th></th>\n",
              "      <th></th>\n",
              "      <th>mean</th>\n",
              "      <th>std</th>\n",
              "      <th>mean</th>\n",
              "      <th>std</th>\n",
              "      <th>mean</th>\n",
              "      <th>std</th>\n",
              "      <th>mean</th>\n",
              "      <th>std</th>\n",
              "      <th>...</th>\n",
              "      <th>mean</th>\n",
              "      <th>std</th>\n",
              "      <th>mean</th>\n",
              "      <th>std</th>\n",
              "      <th>mean</th>\n",
              "      <th>std</th>\n",
              "      <th>mean</th>\n",
              "      <th>std</th>\n",
              "      <th>mean</th>\n",
              "      <th>std</th>\n",
              "    </tr>\n",
              "  </thead>\n",
              "  <tbody>\n",
              "    <tr>\n",
              "      <th>0</th>\n",
              "      <td>Березники</td>\n",
              "      <td>2013-01-01</td>\n",
              "      <td>-18.762500</td>\n",
              "      <td>1.522158</td>\n",
              "      <td>745.675000</td>\n",
              "      <td>1.500238</td>\n",
              "      <td>763.6375</td>\n",
              "      <td>1.570202</td>\n",
              "      <td>-6.938894e-18</td>\n",
              "      <td>0.477344</td>\n",
              "      <td>...</td>\n",
              "      <td>-18.1</td>\n",
              "      <td>0.0</td>\n",
              "      <td>-20.800000</td>\n",
              "      <td>1.527837</td>\n",
              "      <td>12.0</td>\n",
              "      <td>0.0</td>\n",
              "      <td>8.0</td>\n",
              "      <td>0.0</td>\n",
              "      <td>4.000</td>\n",
              "      <td>11.313708</td>\n",
              "    </tr>\n",
              "    <tr>\n",
              "      <th>1</th>\n",
              "      <td>Березники</td>\n",
              "      <td>2013-01-02</td>\n",
              "      <td>-9.950000</td>\n",
              "      <td>3.352611</td>\n",
              "      <td>746.375000</td>\n",
              "      <td>1.575482</td>\n",
              "      <td>763.6500</td>\n",
              "      <td>1.819733</td>\n",
              "      <td>-6.938894e-18</td>\n",
              "      <td>0.477344</td>\n",
              "      <td>...</td>\n",
              "      <td>-5.5</td>\n",
              "      <td>0.0</td>\n",
              "      <td>-14.812500</td>\n",
              "      <td>1.539422</td>\n",
              "      <td>12.0</td>\n",
              "      <td>0.0</td>\n",
              "      <td>8.0</td>\n",
              "      <td>0.0</td>\n",
              "      <td>7.375</td>\n",
              "      <td>20.859650</td>\n",
              "    </tr>\n",
              "    <tr>\n",
              "      <th>2</th>\n",
              "      <td>Березники</td>\n",
              "      <td>2013-01-03</td>\n",
              "      <td>-22.887500</td>\n",
              "      <td>6.902264</td>\n",
              "      <td>734.387500</td>\n",
              "      <td>1.636580</td>\n",
              "      <td>752.3875</td>\n",
              "      <td>1.323888</td>\n",
              "      <td>5.125000e-01</td>\n",
              "      <td>0.496955</td>\n",
              "      <td>...</td>\n",
              "      <td>-14.0</td>\n",
              "      <td>0.0</td>\n",
              "      <td>-29.200000</td>\n",
              "      <td>3.698262</td>\n",
              "      <td>12.0</td>\n",
              "      <td>0.0</td>\n",
              "      <td>8.0</td>\n",
              "      <td>0.0</td>\n",
              "      <td>7.500</td>\n",
              "      <td>21.213203</td>\n",
              "    </tr>\n",
              "    <tr>\n",
              "      <th>3</th>\n",
              "      <td>Березники</td>\n",
              "      <td>2013-01-04</td>\n",
              "      <td>-2.587500</td>\n",
              "      <td>1.498034</td>\n",
              "      <td>750.862500</td>\n",
              "      <td>2.088019</td>\n",
              "      <td>767.8750</td>\n",
              "      <td>2.157214</td>\n",
              "      <td>3.750000e-01</td>\n",
              "      <td>1.049830</td>\n",
              "      <td>...</td>\n",
              "      <td>1.6</td>\n",
              "      <td>0.0</td>\n",
              "      <td>-4.087500</td>\n",
              "      <td>0.662112</td>\n",
              "      <td>12.0</td>\n",
              "      <td>0.0</td>\n",
              "      <td>8.0</td>\n",
              "      <td>0.0</td>\n",
              "      <td>9.250</td>\n",
              "      <td>26.162951</td>\n",
              "    </tr>\n",
              "    <tr>\n",
              "      <th>4</th>\n",
              "      <td>Березники</td>\n",
              "      <td>2013-01-05</td>\n",
              "      <td>4.414286</td>\n",
              "      <td>2.043223</td>\n",
              "      <td>741.071429</td>\n",
              "      <td>2.825311</td>\n",
              "      <td>757.4000</td>\n",
              "      <td>2.879815</td>\n",
              "      <td>-1.250000e+00</td>\n",
              "      <td>1.561730</td>\n",
              "      <td>...</td>\n",
              "      <td>5.7</td>\n",
              "      <td>0.0</td>\n",
              "      <td>-0.014286</td>\n",
              "      <td>4.645223</td>\n",
              "      <td>12.0</td>\n",
              "      <td>0.0</td>\n",
              "      <td>8.0</td>\n",
              "      <td>0.0</td>\n",
              "      <td>0.000</td>\n",
              "      <td>0.000000</td>\n",
              "    </tr>\n",
              "    <tr>\n",
              "      <th>...</th>\n",
              "      <td>...</td>\n",
              "      <td>...</td>\n",
              "      <td>...</td>\n",
              "      <td>...</td>\n",
              "      <td>...</td>\n",
              "      <td>...</td>\n",
              "      <td>...</td>\n",
              "      <td>...</td>\n",
              "      <td>...</td>\n",
              "      <td>...</td>\n",
              "      <td>...</td>\n",
              "      <td>...</td>\n",
              "      <td>...</td>\n",
              "      <td>...</td>\n",
              "      <td>...</td>\n",
              "      <td>...</td>\n",
              "      <td>...</td>\n",
              "      <td>...</td>\n",
              "      <td>...</td>\n",
              "      <td>...</td>\n",
              "      <td>...</td>\n",
              "    </tr>\n",
              "    <tr>\n",
              "      <th>73906</th>\n",
              "      <td>Чернушка</td>\n",
              "      <td>2022-12-27</td>\n",
              "      <td>-9.375000</td>\n",
              "      <td>1.683322</td>\n",
              "      <td>758.862500</td>\n",
              "      <td>0.266927</td>\n",
              "      <td>773.5500</td>\n",
              "      <td>0.329502</td>\n",
              "      <td>-6.938894e-18</td>\n",
              "      <td>0.477344</td>\n",
              "      <td>...</td>\n",
              "      <td>-8.4</td>\n",
              "      <td>0.0</td>\n",
              "      <td>-12.037500</td>\n",
              "      <td>1.387637</td>\n",
              "      <td>12.0</td>\n",
              "      <td>0.0</td>\n",
              "      <td>8.0</td>\n",
              "      <td>0.0</td>\n",
              "      <td>3.125</td>\n",
              "      <td>8.838835</td>\n",
              "    </tr>\n",
              "    <tr>\n",
              "      <th>73907</th>\n",
              "      <td>Чернушка</td>\n",
              "      <td>2022-12-28</td>\n",
              "      <td>-13.200000</td>\n",
              "      <td>2.682217</td>\n",
              "      <td>757.212500</td>\n",
              "      <td>0.835699</td>\n",
              "      <td>772.1125</td>\n",
              "      <td>0.683348</td>\n",
              "      <td>-6.938894e-18</td>\n",
              "      <td>0.477344</td>\n",
              "      <td>...</td>\n",
              "      <td>-11.7</td>\n",
              "      <td>0.0</td>\n",
              "      <td>-15.512500</td>\n",
              "      <td>2.866276</td>\n",
              "      <td>12.0</td>\n",
              "      <td>0.0</td>\n",
              "      <td>8.0</td>\n",
              "      <td>0.0</td>\n",
              "      <td>3.125</td>\n",
              "      <td>8.838835</td>\n",
              "    </tr>\n",
              "    <tr>\n",
              "      <th>73908</th>\n",
              "      <td>Чернушка</td>\n",
              "      <td>2022-12-29</td>\n",
              "      <td>-16.600000</td>\n",
              "      <td>4.327982</td>\n",
              "      <td>755.012500</td>\n",
              "      <td>0.839111</td>\n",
              "      <td>770.0750</td>\n",
              "      <td>1.108087</td>\n",
              "      <td>-6.938894e-18</td>\n",
              "      <td>0.477344</td>\n",
              "      <td>...</td>\n",
              "      <td>-11.8</td>\n",
              "      <td>0.0</td>\n",
              "      <td>-19.375000</td>\n",
              "      <td>4.526667</td>\n",
              "      <td>12.0</td>\n",
              "      <td>0.0</td>\n",
              "      <td>8.0</td>\n",
              "      <td>0.0</td>\n",
              "      <td>3.125</td>\n",
              "      <td>8.838835</td>\n",
              "    </tr>\n",
              "    <tr>\n",
              "      <th>73909</th>\n",
              "      <td>Чернушка</td>\n",
              "      <td>2022-12-30</td>\n",
              "      <td>-11.287500</td>\n",
              "      <td>0.953846</td>\n",
              "      <td>754.400000</td>\n",
              "      <td>0.759699</td>\n",
              "      <td>769.1625</td>\n",
              "      <td>0.765203</td>\n",
              "      <td>-6.938894e-18</td>\n",
              "      <td>0.477344</td>\n",
              "      <td>...</td>\n",
              "      <td>-9.1</td>\n",
              "      <td>0.0</td>\n",
              "      <td>-13.600000</td>\n",
              "      <td>0.939605</td>\n",
              "      <td>12.0</td>\n",
              "      <td>0.0</td>\n",
              "      <td>8.0</td>\n",
              "      <td>0.0</td>\n",
              "      <td>3.125</td>\n",
              "      <td>8.838835</td>\n",
              "    </tr>\n",
              "    <tr>\n",
              "      <th>73910</th>\n",
              "      <td>Чернушка</td>\n",
              "      <td>2022-12-31</td>\n",
              "      <td>-15.625000</td>\n",
              "      <td>2.125861</td>\n",
              "      <td>756.500000</td>\n",
              "      <td>0.459814</td>\n",
              "      <td>771.5000</td>\n",
              "      <td>0.427618</td>\n",
              "      <td>-6.938894e-18</td>\n",
              "      <td>0.477344</td>\n",
              "      <td>...</td>\n",
              "      <td>-14.2</td>\n",
              "      <td>0.0</td>\n",
              "      <td>-18.362500</td>\n",
              "      <td>2.292807</td>\n",
              "      <td>12.0</td>\n",
              "      <td>0.0</td>\n",
              "      <td>8.0</td>\n",
              "      <td>0.0</td>\n",
              "      <td>3.375</td>\n",
              "      <td>9.545942</td>\n",
              "    </tr>\n",
              "  </tbody>\n",
              "</table>\n",
              "<p>73911 rows × 30 columns</p>\n",
              "</div>\n",
              "    <div class=\"colab-df-buttons\">\n",
              "\n",
              "  <div class=\"colab-df-container\">\n",
              "    <button class=\"colab-df-convert\" onclick=\"convertToInteractive('df-f413b08e-e1f1-4d2b-a6f9-57aa1ef3032f')\"\n",
              "            title=\"Convert this dataframe to an interactive table.\"\n",
              "            style=\"display:none;\">\n",
              "\n",
              "  <svg xmlns=\"http://www.w3.org/2000/svg\" height=\"24px\" viewBox=\"0 -960 960 960\">\n",
              "    <path d=\"M120-120v-720h720v720H120Zm60-500h600v-160H180v160Zm220 220h160v-160H400v160Zm0 220h160v-160H400v160ZM180-400h160v-160H180v160Zm440 0h160v-160H620v160ZM180-180h160v-160H180v160Zm440 0h160v-160H620v160Z\"/>\n",
              "  </svg>\n",
              "    </button>\n",
              "\n",
              "  <style>\n",
              "    .colab-df-container {\n",
              "      display:flex;\n",
              "      gap: 12px;\n",
              "    }\n",
              "\n",
              "    .colab-df-convert {\n",
              "      background-color: #E8F0FE;\n",
              "      border: none;\n",
              "      border-radius: 50%;\n",
              "      cursor: pointer;\n",
              "      display: none;\n",
              "      fill: #1967D2;\n",
              "      height: 32px;\n",
              "      padding: 0 0 0 0;\n",
              "      width: 32px;\n",
              "    }\n",
              "\n",
              "    .colab-df-convert:hover {\n",
              "      background-color: #E2EBFA;\n",
              "      box-shadow: 0px 1px 2px rgba(60, 64, 67, 0.3), 0px 1px 3px 1px rgba(60, 64, 67, 0.15);\n",
              "      fill: #174EA6;\n",
              "    }\n",
              "\n",
              "    .colab-df-buttons div {\n",
              "      margin-bottom: 4px;\n",
              "    }\n",
              "\n",
              "    [theme=dark] .colab-df-convert {\n",
              "      background-color: #3B4455;\n",
              "      fill: #D2E3FC;\n",
              "    }\n",
              "\n",
              "    [theme=dark] .colab-df-convert:hover {\n",
              "      background-color: #434B5C;\n",
              "      box-shadow: 0px 1px 3px 1px rgba(0, 0, 0, 0.15);\n",
              "      filter: drop-shadow(0px 1px 2px rgba(0, 0, 0, 0.3));\n",
              "      fill: #FFFFFF;\n",
              "    }\n",
              "  </style>\n",
              "\n",
              "    <script>\n",
              "      const buttonEl =\n",
              "        document.querySelector('#df-f413b08e-e1f1-4d2b-a6f9-57aa1ef3032f button.colab-df-convert');\n",
              "      buttonEl.style.display =\n",
              "        google.colab.kernel.accessAllowed ? 'block' : 'none';\n",
              "\n",
              "      async function convertToInteractive(key) {\n",
              "        const element = document.querySelector('#df-f413b08e-e1f1-4d2b-a6f9-57aa1ef3032f');\n",
              "        const dataTable =\n",
              "          await google.colab.kernel.invokeFunction('convertToInteractive',\n",
              "                                                    [key], {});\n",
              "        if (!dataTable) return;\n",
              "\n",
              "        const docLinkHtml = 'Like what you see? Visit the ' +\n",
              "          '<a target=\"_blank\" href=https://colab.research.google.com/notebooks/data_table.ipynb>data table notebook</a>'\n",
              "          + ' to learn more about interactive tables.';\n",
              "        element.innerHTML = '';\n",
              "        dataTable['output_type'] = 'display_data';\n",
              "        await google.colab.output.renderOutput(dataTable, element);\n",
              "        const docLink = document.createElement('div');\n",
              "        docLink.innerHTML = docLinkHtml;\n",
              "        element.appendChild(docLink);\n",
              "      }\n",
              "    </script>\n",
              "  </div>\n",
              "\n",
              "\n",
              "<div id=\"df-d371aa35-59b8-4368-8385-d6b8e8969fa1\">\n",
              "  <button class=\"colab-df-quickchart\" onclick=\"quickchart('df-d371aa35-59b8-4368-8385-d6b8e8969fa1')\"\n",
              "            title=\"Suggest charts.\"\n",
              "            style=\"display:none;\">\n",
              "\n",
              "<svg xmlns=\"http://www.w3.org/2000/svg\" height=\"24px\"viewBox=\"0 0 24 24\"\n",
              "     width=\"24px\">\n",
              "    <g>\n",
              "        <path d=\"M19 3H5c-1.1 0-2 .9-2 2v14c0 1.1.9 2 2 2h14c1.1 0 2-.9 2-2V5c0-1.1-.9-2-2-2zM9 17H7v-7h2v7zm4 0h-2V7h2v10zm4 0h-2v-4h2v4z\"/>\n",
              "    </g>\n",
              "</svg>\n",
              "  </button>\n",
              "\n",
              "<style>\n",
              "  .colab-df-quickchart {\n",
              "      --bg-color: #E8F0FE;\n",
              "      --fill-color: #1967D2;\n",
              "      --hover-bg-color: #E2EBFA;\n",
              "      --hover-fill-color: #174EA6;\n",
              "      --disabled-fill-color: #AAA;\n",
              "      --disabled-bg-color: #DDD;\n",
              "  }\n",
              "\n",
              "  [theme=dark] .colab-df-quickchart {\n",
              "      --bg-color: #3B4455;\n",
              "      --fill-color: #D2E3FC;\n",
              "      --hover-bg-color: #434B5C;\n",
              "      --hover-fill-color: #FFFFFF;\n",
              "      --disabled-bg-color: #3B4455;\n",
              "      --disabled-fill-color: #666;\n",
              "  }\n",
              "\n",
              "  .colab-df-quickchart {\n",
              "    background-color: var(--bg-color);\n",
              "    border: none;\n",
              "    border-radius: 50%;\n",
              "    cursor: pointer;\n",
              "    display: none;\n",
              "    fill: var(--fill-color);\n",
              "    height: 32px;\n",
              "    padding: 0;\n",
              "    width: 32px;\n",
              "  }\n",
              "\n",
              "  .colab-df-quickchart:hover {\n",
              "    background-color: var(--hover-bg-color);\n",
              "    box-shadow: 0 1px 2px rgba(60, 64, 67, 0.3), 0 1px 3px 1px rgba(60, 64, 67, 0.15);\n",
              "    fill: var(--button-hover-fill-color);\n",
              "  }\n",
              "\n",
              "  .colab-df-quickchart-complete:disabled,\n",
              "  .colab-df-quickchart-complete:disabled:hover {\n",
              "    background-color: var(--disabled-bg-color);\n",
              "    fill: var(--disabled-fill-color);\n",
              "    box-shadow: none;\n",
              "  }\n",
              "\n",
              "  .colab-df-spinner {\n",
              "    border: 2px solid var(--fill-color);\n",
              "    border-color: transparent;\n",
              "    border-bottom-color: var(--fill-color);\n",
              "    animation:\n",
              "      spin 1s steps(1) infinite;\n",
              "  }\n",
              "\n",
              "  @keyframes spin {\n",
              "    0% {\n",
              "      border-color: transparent;\n",
              "      border-bottom-color: var(--fill-color);\n",
              "      border-left-color: var(--fill-color);\n",
              "    }\n",
              "    20% {\n",
              "      border-color: transparent;\n",
              "      border-left-color: var(--fill-color);\n",
              "      border-top-color: var(--fill-color);\n",
              "    }\n",
              "    30% {\n",
              "      border-color: transparent;\n",
              "      border-left-color: var(--fill-color);\n",
              "      border-top-color: var(--fill-color);\n",
              "      border-right-color: var(--fill-color);\n",
              "    }\n",
              "    40% {\n",
              "      border-color: transparent;\n",
              "      border-right-color: var(--fill-color);\n",
              "      border-top-color: var(--fill-color);\n",
              "    }\n",
              "    60% {\n",
              "      border-color: transparent;\n",
              "      border-right-color: var(--fill-color);\n",
              "    }\n",
              "    80% {\n",
              "      border-color: transparent;\n",
              "      border-right-color: var(--fill-color);\n",
              "      border-bottom-color: var(--fill-color);\n",
              "    }\n",
              "    90% {\n",
              "      border-color: transparent;\n",
              "      border-bottom-color: var(--fill-color);\n",
              "    }\n",
              "  }\n",
              "</style>\n",
              "\n",
              "  <script>\n",
              "    async function quickchart(key) {\n",
              "      const quickchartButtonEl =\n",
              "        document.querySelector('#' + key + ' button');\n",
              "      quickchartButtonEl.disabled = true;  // To prevent multiple clicks.\n",
              "      quickchartButtonEl.classList.add('colab-df-spinner');\n",
              "      try {\n",
              "        const charts = await google.colab.kernel.invokeFunction(\n",
              "            'suggestCharts', [key], {});\n",
              "      } catch (error) {\n",
              "        console.error('Error during call to suggestCharts:', error);\n",
              "      }\n",
              "      quickchartButtonEl.classList.remove('colab-df-spinner');\n",
              "      quickchartButtonEl.classList.add('colab-df-quickchart-complete');\n",
              "    }\n",
              "    (() => {\n",
              "      let quickchartButtonEl =\n",
              "        document.querySelector('#df-d371aa35-59b8-4368-8385-d6b8e8969fa1 button');\n",
              "      quickchartButtonEl.style.display =\n",
              "        google.colab.kernel.accessAllowed ? 'block' : 'none';\n",
              "    })();\n",
              "  </script>\n",
              "</div>\n",
              "    </div>\n",
              "  </div>\n"
            ]
          },
          "metadata": {},
          "execution_count": 134
        }
      ]
    },
    {
      "cell_type": "code",
      "source": [],
      "metadata": {
        "id": "fmCU8LlkgRg3"
      },
      "execution_count": null,
      "outputs": []
    },
    {
      "cell_type": "code",
      "source": [
        "netDet.columns = ['reg', 'heat_supply','cold_water','hot_water','electricy','gas','water_cooking', 'water_pump', 'water_take', 'water_out', 'water_clear','sewage_pump', 'warm_engines', 'warm_points']"
      ],
      "metadata": {
        "id": "tK0G105MoEe0"
      },
      "execution_count": null,
      "outputs": []
    },
    {
      "cell_type": "code",
      "source": [
        "netDet.sort_values('reg')"
      ],
      "metadata": {
        "id": "wOUoHYczphRN"
      },
      "execution_count": null,
      "outputs": []
    },
    {
      "cell_type": "code",
      "source": [],
      "metadata": {
        "id": "tVatmNbnTr5b"
      },
      "execution_count": null,
      "outputs": []
    },
    {
      "cell_type": "markdown",
      "source": [
        "Очевидно надо разделить на нормальные причины"
      ],
      "metadata": {
        "id": "p1VznTURantW"
      }
    },
    {
      "cell_type": "markdown",
      "source": [
        "## Евгений\n",
        "надо смержить\n",
        "emergency <-> metetoreg <-> meteo"
      ],
      "metadata": {
        "id": "Tz6OuJX8Tabn"
      }
    },
    {
      "cell_type": "markdown",
      "source": [
        "### Станции и их регионы"
      ],
      "metadata": {
        "id": "RcJQvOS9MTY_"
      }
    },
    {
      "cell_type": "code",
      "source": [
        "meteToReg.columns = ['reg', 'station']\n",
        "meteToReg.reg = meteToReg.reg.apply(lambda x: x.strip())\n"
      ],
      "metadata": {
        "id": "oH6tv9FWMG-s"
      },
      "execution_count": null,
      "outputs": []
    },
    {
      "cell_type": "code",
      "source": [
        "np.setdiff1d(emergency.reg.unique(), meteToReg.reg)"
      ],
      "metadata": {
        "colab": {
          "base_uri": "https://localhost:8080/"
        },
        "id": "ZEoCz8mSMufP",
        "outputId": "c385a1fa-d0a3-4825-de29-f414d018f829"
      },
      "execution_count": null,
      "outputs": [
        {
          "output_type": "execute_result",
          "data": {
            "text/plain": [
              "array([], dtype=object)"
            ]
          },
          "metadata": {},
          "execution_count": 321
        }
      ]
    },
    {
      "cell_type": "code",
      "source": [
        "import statsmodels.api as sm\n",
        "fig = sm.qqplot(meteo['T'], line='45')\n",
        "plt.show()"
      ],
      "metadata": {
        "colab": {
          "base_uri": "https://localhost:8080/",
          "height": 449
        },
        "id": "xopTXpJpRr-g",
        "outputId": "b004b497-adb4-42f7-f812-3139e1040f08"
      },
      "execution_count": null,
      "outputs": [
        {
          "output_type": "display_data",
          "data": {
            "text/plain": [
              "<Figure size 640x480 with 1 Axes>"
            ],
            "image/png": "[encoded data removed]"
          },
          "metadata": {}
        }
      ]
    },
    {
      "cell_type": "code",
      "source": [],
      "metadata": {
        "id": "Io9_VDfEZ8sn"
      },
      "execution_count": null,
      "outputs": []
    }
  ]
}